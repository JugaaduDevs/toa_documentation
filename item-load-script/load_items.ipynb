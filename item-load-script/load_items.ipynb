{
 "cells": [
  {
   "cell_type": "code",
   "execution_count": 1,
   "metadata": {},
   "outputs": [],
   "source": [
    "import pandas as pd\n",
    "from bson.objectid import ObjectId\n",
    "from pymongo import MongoClient\n",
    "import json"
   ]
  },
  {
   "cell_type": "code",
   "execution_count": 2,
   "metadata": {},
   "outputs": [],
   "source": [
    "items = pd.read_excel(\"Sit_in_Menu.xlsx\")\n",
    "client = MongoClient('mongodb://127.0.0.1:27017/tasteofindia')"
   ]
  },
  {
   "cell_type": "code",
   "execution_count": 3,
   "metadata": {},
   "outputs": [],
   "source": [
    "items['SpiceLevel'] = \"\"\n",
    "items['IsFeatured'] = False\n",
    "items['IsAvailable'] = True\n",
    "items['Description'] = items.Name + \" Description\"\n",
    "items.drop('Touchscreen', axis=1, inplace=True)\n",
    "items.drop('Tax', axis=1, inplace=True)\n",
    "items.drop('Printer', axis=1, inplace=True)\n",
    "items.drop('Unnamed: 6', axis=1, inplace=True)"
   ]
  },
  {
   "cell_type": "code",
   "execution_count": 4,
   "metadata": {},
   "outputs": [],
   "source": [
    "items.dropna(inplace=True)"
   ]
  },
  {
   "cell_type": "code",
   "execution_count": 5,
   "metadata": {},
   "outputs": [],
   "source": [
    "# Build categories\n",
    "client.tasteofindia.categories.drop()\n",
    "for departement in items.Department.unique():\n",
    "    d = {'isAvailable': True, 'name': departement, 'description': departement, '_v': 0}\n",
    "    client.tasteofindia.categories.insert_one(d)"
   ]
  },
  {
   "cell_type": "code",
   "execution_count": 6,
   "metadata": {},
   "outputs": [],
   "source": [
    "def getCategoryId(name):\n",
    "    category = client.tasteofindia.categories.find_one({'name': name})\n",
    "    return category['_id']"
   ]
  },
  {
   "cell_type": "code",
   "execution_count": 7,
   "metadata": {},
   "outputs": [],
   "source": [
    "def getComplimetaryItemId():\n",
    "    citems = client.tasteofindia.complimentaryitems.find()\n",
    "    return [citem['_id'] for citem in citems]"
   ]
  },
  {
   "cell_type": "code",
   "execution_count": 8,
   "metadata": {},
   "outputs": [],
   "source": [
    "client.tasteofindia.items.drop()\n",
    "for index, item in items.iterrows():\n",
    "    d = {\n",
    "        'defaultSpiceLevel': \"\", \n",
    "        'isFeatured': item['IsFeatured'],\n",
    "        'isAvailable': item['IsAvailable'],\n",
    "        'name': item['Name'],\n",
    "        'description': item['Description'],\n",
    "        'price': item['Selling'],\n",
    "        'category': getCategoryId(item['Department'])\n",
    "    }\n",
    "    if item['Department'] in ['Chicken Mains', 'Lamb Mains', 'Seafood Mains', 'Vegetable Mains', 'Indo Chinese Main', 'Mutton (Goat)']:\n",
    "        d['spiceLevels'] = ['Mild', 'Medium', 'Hot']\n",
    "        d['ComplimentaryItems'] = getComplimetaryItemId()\n",
    "    client.tasteofindia.items.insert_one(d)"
   ]
  },
  {
   "cell_type": "code",
   "execution_count": 9,
   "metadata": {},
   "outputs": [
    {
     "data": {
      "text/plain": [
       "array(['Veg Starters', 'Non-Veg Starters', 'Soups', 'Salad',\n",
       "       'Chicken Mains', 'Lamb Mains', 'Seafood Mains', 'Rice',\n",
       "       'Vegetable Mains', 'Indo Chinese Main', 'Mutton (Goat)',\n",
       "       'Indian Breads', 'Deserts', 'Hot Beverages'], dtype=object)"
      ]
     },
     "execution_count": 9,
     "metadata": {},
     "output_type": "execute_result"
    }
   ],
   "source": [
    "items.Department.unique()"
   ]
  },
  {
   "cell_type": "code",
   "execution_count": 10,
   "metadata": {},
   "outputs": [],
   "source": [
    "# rice = {'name': 'Rice', 'price': 0}\n",
    "# butter_naan = {'name': 'Butter Naan', 'price': 0}\n",
    "# garlic_naan = {'name': 'Garlic Naan', 'price': 0}\n",
    "\n",
    "# client.tasteofindia.complimentaryitems.insert_many([rice, butter_naan, garlic_naan])"
   ]
  },
  {
   "cell_type": "code",
   "execution_count": null,
   "metadata": {},
   "outputs": [],
   "source": []
  }
 ],
 "metadata": {
  "kernelspec": {
   "display_name": "Python 3",
   "language": "python",
   "name": "python3"
  },
  "language_info": {
   "codemirror_mode": {
    "name": "ipython",
    "version": 3
   },
   "file_extension": ".py",
   "mimetype": "text/x-python",
   "name": "python",
   "nbconvert_exporter": "python",
   "pygments_lexer": "ipython3",
   "version": "3.8.5"
  }
 },
 "nbformat": 4,
 "nbformat_minor": 4
}
